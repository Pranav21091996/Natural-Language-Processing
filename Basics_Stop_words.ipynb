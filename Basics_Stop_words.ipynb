{
 "cells": [
  {
   "cell_type": "markdown",
   "metadata": {},
   "source": [
    "# STOP WORDS\n"
   ]
  },
  {
   "cell_type": "code",
   "execution_count": 1,
   "metadata": {
    "collapsed": true
   },
   "outputs": [],
   "source": [
    "from nltk.corpus import stopwords\n",
    "from nltk.tokenize import word_tokenize"
   ]
  },
  {
   "cell_type": "code",
   "execution_count": 2,
   "metadata": {
    "collapsed": true
   },
   "outputs": [],
   "source": [
    "example_sentence=\"This is an example showing off stop words filtration. \""
   ]
  },
  {
   "cell_type": "code",
   "execution_count": 4,
   "metadata": {},
   "outputs": [
    {
     "name": "stdout",
     "output_type": "stream",
     "text": [
      "{'that', 'both', 'been', 'into', 'have', 'ourselves', 'haven', 'does', 'while', 'me', 'other', 'above', 'our', 's', 'between', 'up', 'd', 'too', 'm', 'being', 'we', 'with', 'and', 'here', 'off', 'themselves', 'do', 'from', 've', 'be', 'of', 'each', 'aren', 'will', 'some', 'did', 'why', 'an', 'most', 'didn', 'yourself', 'only', 'not', 'you', 'wouldn', 'herself', 'because', 'who', 'through', 'now', 'doesn', 'mightn', 'having', 'isn', 'it', 'them', 'needn', 'any', 'very', 'then', 'y', 'nor', 'this', 'they', 'down', 'what', 'once', 'to', 'itself', 'a', 'when', 'i', 'your', 'is', 'how', 'should', 'hasn', 'whom', 'ours', 'had', 'same', 'shan', 'before', 'myself', 'than', 'him', 'hers', 'shouldn', 'about', 'under', 'her', 'were', 'doing', 'mustn', 'weren', 'by', 'o', 'over', 'these', 'he', 'am', 'my', 'she', 'won', 'further', 'no', 'his', 'where', 'at', 't', 'if', 'couldn', 'himself', 'ma', 'or', 'which', 'yours', 'few', 'on', 'are', 'out', 'theirs', 'the', 'so', 're', 'can', 'as', 'its', 'after', 'yourselves', 'more', 'hadn', 'but', 'all', 'don', 'during', 'those', 'll', 'until', 'wasn', 'own', 'there', 'for', 'in', 'just', 'again', 'their', 'has', 'such', 'below', 'against', 'ain', 'was'}\n"
     ]
    }
   ],
   "source": [
    "stop_words=set(stopwords.words(\"english\"))\n",
    "print(stop_words)"
   ]
  },
  {
   "cell_type": "code",
   "execution_count": 5,
   "metadata": {
    "collapsed": true
   },
   "outputs": [],
   "source": [
    "words=word_tokenize(example_sentence)"
   ]
  },
  {
   "cell_type": "code",
   "execution_count": 9,
   "metadata": {},
   "outputs": [],
   "source": [
    "filtered_sentence=[]"
   ]
  },
  {
   "cell_type": "code",
   "execution_count": 10,
   "metadata": {
    "collapsed": true
   },
   "outputs": [],
   "source": [
    "for word in words:\n",
    "    if word not in stop_words:\n",
    "        filtered_sentence.append(word)"
   ]
  },
  {
   "cell_type": "code",
   "execution_count": 11,
   "metadata": {},
   "outputs": [
    {
     "data": {
      "text/plain": [
       "['This', 'example', 'showing', 'stop', 'words', 'filtration', '.']"
      ]
     },
     "execution_count": 11,
     "metadata": {},
     "output_type": "execute_result"
    }
   ],
   "source": [
    "filtered_sentence\n"
   ]
  },
  {
   "cell_type": "code",
   "execution_count": null,
   "metadata": {
    "collapsed": true
   },
   "outputs": [],
   "source": []
  }
 ],
 "metadata": {
  "kernelspec": {
   "display_name": "Python 3",
   "language": "python",
   "name": "python3"
  },
  "language_info": {
   "codemirror_mode": {
    "name": "ipython",
    "version": 3
   },
   "file_extension": ".py",
   "mimetype": "text/x-python",
   "name": "python",
   "nbconvert_exporter": "python",
   "pygments_lexer": "ipython3",
   "version": "3.4.3"
  }
 },
 "nbformat": 4,
 "nbformat_minor": 2
}
